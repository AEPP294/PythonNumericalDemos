{
 "cells": [
  {
   "cell_type": "markdown",
   "id": "a1a5d379",
   "metadata": {},
   "source": [
    "<p align=\"center\">\n",
    "    <img src=\"https://github.com/GeostatsGuy/GeostatsPy/blob/master/TCG_color_logo.png?raw=true\" width=\"220\" height=\"240\" />\n",
    "\n",
    "</p>\n",
    "\n",
    "## Heterogeneity Metrics Demonstration\n",
    "\n",
    "### Calculating Heterogeneity Metrics to Summarize Subsurface Heterogeneity Tutorial\n",
    "\n",
    "* demonstrate various mathematical operations for statistical expectation with distributions\n",
    "\n",
    "* the same workflow is and data is demonstrated in [Excel Heterogeneity Metrics](https://github.com/GeostatsGuy/ExcelNumericalDemos/blob/master/Heterogeneity_Metrics.xlsx).\n",
    "\n",
    "#### Michael Pyrcz, Associate Professor, University of Texas at Austin \n",
    "\n",
    "##### [Twitter](https://twitter.com/geostatsguy) | [GitHub](https://github.com/GeostatsGuy) | [Website](http://michaelpyrcz.com) | [GoogleScholar](https://scholar.google.com/citations?user=QVZ20eQAAAAJ&hl=en&oi=ao) | [Book](https://www.amazon.com/Geostatistical-Reservoir-Modeling-Michael-Pyrcz/dp/0199731446) | [YouTube](https://www.youtube.com/channel/UCLqEr-xV-ceHdXXXrTId5ig)  | [LinkedIn](https://www.linkedin.com/in/michael-pyrcz-61a648a1) | [GeostatsPy](https://github.com/GeostatsGuy/GeostatsPy)\n",
    "\n",
    "#### Heterogeneity Metrics\n",
    "\n",
    "##### Applications with Measures of Heterogeneity\n",
    "\n",
    "* Measures of heterogeneity are often applied proxy, approximate measures to indicate reservoir production / performance.  \n",
    "* These measures may be applied to compare and rank reservoirs or reservoir model realizations for a single reservoir.  \n",
    "\n",
    "##### Best Practice\n",
    "\n",
    "* None of these metrics are perfect.  \n",
    "\n",
    "* The best result possible from rigorous flow forecasting applied to good, full 3D reservoir models, use the physics when possible!\n",
    "\n",
    "* Integrate all relevant information, at sufficient scale to resolve important features\n",
    "\n",
    "###### Caution\n",
    "\n",
    "* Use of simple heterogeneity measures for ranking reservoir and reservoir models can be dangerous.  \n",
    "\n",
    "* Inaccuracy can result in incorrect rank estimates; therefore, incorrect business decisions.\n",
    "\n",
    "###### Other Measures\n",
    "\n",
    "* We just consider simple, static measures here\n",
    "\n",
    "* I also have a Python demonstration for [Lorenz coefficient](https://github.com/GeostatsGuy/PythonNumericalDemos/blob/master/Lorenz_coefficient_demo.ipynb)\n",
    "\n",
    "* Got your own measure?  You may develop a new metric. Novel methods for quantifying heterogeneity within reservoirs is a currently active area of research.\n",
    "\n",
    "#### Objective \n",
    "\n",
    "Let's demonstate these heterogeneity metrics on a subsurface dataset.\n",
    "\n",
    "#### Getting Started\n",
    "\n",
    "Here's the steps to get setup in Python:\n",
    "\n",
    "* Install Anaconda 3 on your machine (https://www.anaconda.com/download/).  \n",
    "\n",
    "#### Load the Required Libraries\n",
    "\n",
    "The following code loads the required libraries."
   ]
  },
  {
   "cell_type": "code",
   "execution_count": 1,
   "id": "64adca6c",
   "metadata": {},
   "outputs": [],
   "source": [
    "import numpy as np                                                # arrays\n",
    "import pandas as pd                                               # dataframes\n",
    "import scipy.stats as stats                                       # statistical functions\n",
    "import matplotlib.pyplot as plt                                   # plotting\n",
    "import math                                                       # square root to calculate standard deviation from variance"
   ]
  },
  {
   "cell_type": "markdown",
   "id": "0300e7e9",
   "metadata": {},
   "source": [
    "#### Set the working directory\n",
    "\n",
    "I always like to do this so I don't lose files and to simplify subsequent read and writes (avoid including the full address each time). "
   ]
  },
  {
   "cell_type": "code",
   "execution_count": 2,
   "id": "314135ac",
   "metadata": {},
   "outputs": [],
   "source": [
    "#os.chdir(\"c:/PGE383/Examples\")             # set the working directory"
   ]
  },
  {
   "cell_type": "markdown",
   "id": "f46a8eef",
   "metadata": {},
   "source": [
    "#### Loading Tabular Data\n",
    "\n",
    "Here's the command to load our comma delimited data file in to a Pandas' DataFrame object."
   ]
  },
  {
   "cell_type": "code",
   "execution_count": 13,
   "id": "fb7bd372",
   "metadata": {},
   "outputs": [
    {
     "data": {
      "text/html": [
       "<div>\n",
       "<style scoped>\n",
       "    .dataframe tbody tr th:only-of-type {\n",
       "        vertical-align: middle;\n",
       "    }\n",
       "\n",
       "    .dataframe tbody tr th {\n",
       "        vertical-align: top;\n",
       "    }\n",
       "\n",
       "    .dataframe thead th {\n",
       "        text-align: right;\n",
       "    }\n",
       "</style>\n",
       "<table border=\"1\" class=\"dataframe\">\n",
       "  <thead>\n",
       "    <tr style=\"text-align: right;\">\n",
       "      <th></th>\n",
       "      <th>Depth</th>\n",
       "      <th>Porosity</th>\n",
       "      <th>Perm</th>\n",
       "    </tr>\n",
       "  </thead>\n",
       "  <tbody>\n",
       "    <tr>\n",
       "      <th>0</th>\n",
       "      <td>0.25</td>\n",
       "      <td>12.993634</td>\n",
       "      <td>265.528738</td>\n",
       "    </tr>\n",
       "    <tr>\n",
       "      <th>1</th>\n",
       "      <td>0.50</td>\n",
       "      <td>13.588011</td>\n",
       "      <td>116.891220</td>\n",
       "    </tr>\n",
       "    <tr>\n",
       "      <th>2</th>\n",
       "      <td>0.75</td>\n",
       "      <td>8.962625</td>\n",
       "      <td>136.920016</td>\n",
       "    </tr>\n",
       "    <tr>\n",
       "      <th>3</th>\n",
       "      <td>1.00</td>\n",
       "      <td>17.634879</td>\n",
       "      <td>216.668629</td>\n",
       "    </tr>\n",
       "    <tr>\n",
       "      <th>4</th>\n",
       "      <td>1.25</td>\n",
       "      <td>9.424404</td>\n",
       "      <td>131.594114</td>\n",
       "    </tr>\n",
       "  </tbody>\n",
       "</table>\n",
       "</div>"
      ],
      "text/plain": [
       "   Depth   Porosity        Perm\n",
       "0   0.25  12.993634  265.528738\n",
       "1   0.50  13.588011  116.891220\n",
       "2   0.75   8.962625  136.920016\n",
       "3   1.00  17.634879  216.668629\n",
       "4   1.25   9.424404  131.594114"
      ]
     },
     "execution_count": 13,
     "metadata": {},
     "output_type": "execute_result"
    }
   ],
   "source": [
    "df = pd.read_csv('https://raw.githubusercontent.com/GeostatsGuy/GeoDataSets/master/PorPermSample1.csv')\n",
    "df.head()"
   ]
  },
  {
   "cell_type": "markdown",
   "id": "6ad4e47d",
   "metadata": {},
   "source": [
    "#### Feature Engineering\n",
    "\n",
    "We will need to make a new feature, rock quality index, the ratio of permeability divided by porosity."
   ]
  },
  {
   "cell_type": "code",
   "execution_count": 15,
   "id": "23e763c4",
   "metadata": {},
   "outputs": [
    {
     "data": {
      "text/html": [
       "<div>\n",
       "<style scoped>\n",
       "    .dataframe tbody tr th:only-of-type {\n",
       "        vertical-align: middle;\n",
       "    }\n",
       "\n",
       "    .dataframe tbody tr th {\n",
       "        vertical-align: top;\n",
       "    }\n",
       "\n",
       "    .dataframe thead th {\n",
       "        text-align: right;\n",
       "    }\n",
       "</style>\n",
       "<table border=\"1\" class=\"dataframe\">\n",
       "  <thead>\n",
       "    <tr style=\"text-align: right;\">\n",
       "      <th></th>\n",
       "      <th>Depth</th>\n",
       "      <th>Porosity</th>\n",
       "      <th>Perm</th>\n",
       "      <th>PermPor</th>\n",
       "    </tr>\n",
       "  </thead>\n",
       "  <tbody>\n",
       "    <tr>\n",
       "      <th>0</th>\n",
       "      <td>0.25</td>\n",
       "      <td>12.993634</td>\n",
       "      <td>265.528738</td>\n",
       "      <td>20.435295</td>\n",
       "    </tr>\n",
       "    <tr>\n",
       "      <th>1</th>\n",
       "      <td>0.50</td>\n",
       "      <td>13.588011</td>\n",
       "      <td>116.891220</td>\n",
       "      <td>8.602526</td>\n",
       "    </tr>\n",
       "    <tr>\n",
       "      <th>2</th>\n",
       "      <td>0.75</td>\n",
       "      <td>8.962625</td>\n",
       "      <td>136.920016</td>\n",
       "      <td>15.276776</td>\n",
       "    </tr>\n",
       "    <tr>\n",
       "      <th>3</th>\n",
       "      <td>1.00</td>\n",
       "      <td>17.634879</td>\n",
       "      <td>216.668629</td>\n",
       "      <td>12.286369</td>\n",
       "    </tr>\n",
       "    <tr>\n",
       "      <th>4</th>\n",
       "      <td>1.25</td>\n",
       "      <td>9.424404</td>\n",
       "      <td>131.594114</td>\n",
       "      <td>13.963124</td>\n",
       "    </tr>\n",
       "  </tbody>\n",
       "</table>\n",
       "</div>"
      ],
      "text/plain": [
       "   Depth   Porosity        Perm    PermPor\n",
       "0   0.25  12.993634  265.528738  20.435295\n",
       "1   0.50  13.588011  116.891220   8.602526\n",
       "2   0.75   8.962625  136.920016  15.276776\n",
       "3   1.00  17.634879  216.668629  12.286369\n",
       "4   1.25   9.424404  131.594114  13.963124"
      ]
     },
     "execution_count": 15,
     "metadata": {},
     "output_type": "execute_result"
    }
   ],
   "source": [
    "df['PermPor'] = df['Perm'].values/df['Porosity'].values\n",
    "df.head()"
   ]
  },
  {
   "cell_type": "markdown",
   "id": "52a22fd8",
   "metadata": {},
   "source": [
    "#### Variance of Permeability\n",
    "\n",
    "It is common to use the sample or population variance. I demonstrate the sample mean. \n",
    "\n",
    "\\begin{equation}\n",
    "\\sigma_{X_k}^2 = \\frac{1}{n} \\sum_{i=1}^{n-1} (x_{k,i} - \\overline{x_k})^2\n",
    "\\end{equation}"
   ]
  },
  {
   "cell_type": "code",
   "execution_count": 17,
   "id": "ad95297b",
   "metadata": {},
   "outputs": [
    {
     "name": "stdout",
     "output_type": "stream",
     "text": [
      "Sample Variance of Permeability: 6544.83 mD^2\n"
     ]
    }
   ],
   "source": [
    "var_perm = np.var(df['Perm'].values,ddof=1)\n",
    "print('Sample Variance of Permeability: ' + str(np.round(var_perm,2)) + ' mD^2')"
   ]
  },
  {
   "cell_type": "markdown",
   "id": "5372e732",
   "metadata": {},
   "source": [
    "#### Coefficient of Variation of Permeability\n",
    "\n",
    "Another common metric is the coefficient of variation, the standard deviation standardized by the mean.\n",
    "\n",
    "\\begin{equation}\n",
    "C_{v_k} = \\frac{\\sigma_k}{\\overline{k} }\n",
    "\\end{equation}\n",
    "\n",
    "Note, by specifying the ddof arguement of 1, we are using the sample standard deviation in the calculation."
   ]
  },
  {
   "cell_type": "code",
   "execution_count": 18,
   "id": "fa8ac2d4",
   "metadata": {},
   "outputs": [
    {
     "name": "stdout",
     "output_type": "stream",
     "text": [
      "Coefficeint of Variation of Permeability: 0.502 unitless\n"
     ]
    }
   ],
   "source": [
    "coefvar_perm = stats.variation(df['Perm'].values,ddof=1)\n",
    "print('Coefficeint of Variation of Permeability: ' + str(np.round(coefvar_perm,3)) + ' unitless')"
   ]
  },
  {
   "cell_type": "markdown",
   "id": "ab82a81d",
   "metadata": {},
   "source": [
    "#### Coefficient of Variation of Permeability / Porosity\n",
    "\n",
    "Also it is common to calculate the coefficient of variation of the rock quality index feature, permeability divided by porosity.\n",
    "\n",
    "\\begin{equation}\n",
    "C_{v_\\frac{k}{\\phi}} = \\frac{\\sigma_{\\frac{k}{\\phi}}}{\\overline{\\frac{k}{\\phi}} }\n",
    "\\end{equation}"
   ]
  },
  {
   "cell_type": "code",
   "execution_count": 20,
   "id": "675edec9",
   "metadata": {},
   "outputs": [
    {
     "name": "stdout",
     "output_type": "stream",
     "text": [
      "Coefficient of Variation of Permeability / Porosity: 0.369 unitless\n"
     ]
    }
   ],
   "source": [
    "coefvar_permpor = stats.variation(df['PermPor'].values,ddof=1)\n",
    "print('Coefficient of Variation of Permeability / Porosity: ' + str(np.round(coefvar_permpor,3)) + ' unitless')"
   ]
  },
  {
   "cell_type": "markdown",
   "id": "798b1fef",
   "metadata": {},
   "source": [
    "#### Dykstra Parsons\n",
    "\n",
    "Now let's calculate the Dykstra-Parsons coefficient. \n",
    "\n",
    "\\begin{equation}\n",
    "DP = \\frac{P50_k - P16_k}{P50_k}\n",
    "\\end{equation}"
   ]
  },
  {
   "cell_type": "code",
   "execution_count": 21,
   "id": "d19fbcdf",
   "metadata": {},
   "outputs": [
    {
     "name": "stdout",
     "output_type": "stream",
     "text": [
      "Permeability P16: 84.797\n",
      "Permeability P50: 144.33\n",
      "\n",
      "Dykstra-Parsons Coefficient: 0.412 unitless\n"
     ]
    }
   ],
   "source": [
    "P16_perm = np.percentile(df['Perm'].values,16)\n",
    "P50_perm = np.percentile(df['Perm'].values,50)\n",
    "\n",
    "print('Permeability P16: ' + str(np.round(P16_perm,3)))\n",
    "print('Permeability P50: ' + str(np.round(P50_perm,3)))\n",
    "\n",
    "dp = (P50_perm - P16_perm)/P50_perm\n",
    "print('\\nDykstra-Parsons Coefficient: ' + str(np.round(dp,3)) + ' unitless')"
   ]
  },
  {
   "cell_type": "markdown",
   "id": "f3d6e017",
   "metadata": {},
   "source": [
    "#### Dykstra-Parsons Improved by Fitting a Lognormal Distribution to Permeability\n",
    "\n",
    "We may be able to improve our Dykstra-Parsons coefficient calculation by fitting a lognormal distibution to permeability and then using the parametric lognormal distribution to get a more accurate estimate of the P50 and P16 or permeability.\n",
    "\n",
    "1. calculate the lognormal parameters, \\mu (mu) and \\sigma (sigma)\n",
    "2. use the parametric lognormal CDF inverse to get the P50 and P16"
   ]
  },
  {
   "cell_type": "code",
   "execution_count": 22,
   "id": "455dcefe",
   "metadata": {},
   "outputs": [
    {
     "name": "stdout",
     "output_type": "stream",
     "text": [
      "Lognormal distribution parameters are, mu: 4.97, and sigma: 0.47\n"
     ]
    }
   ],
   "source": [
    "mean_perm = np.average(df['Perm'].values)\n",
    "\n",
    "mu = np.log((mean_perm**2)/math.sqrt(var_perm + mean_perm**2))\n",
    "sigma = math.sqrt(np.log(var_perm/(mean_perm**2)+1))\n",
    "\n",
    "print('Lognormal distribution parameters are, mu: ' + str(np.round(mu,2)) + ', and sigma: ' + str(np.round(sigma,2)))"
   ]
  },
  {
   "cell_type": "markdown",
   "id": "7b36506b",
   "metadata": {},
   "source": [
    "Now we can calculate the P50 and P16 of permeability from the fit lognormal distribution.\n",
    "\n",
    "* Note, we could have been more rigorous with our distribution fit with a ordinary least squares or maximum likelihood approach."
   ]
  },
  {
   "cell_type": "code",
   "execution_count": 10,
   "id": "16789c60",
   "metadata": {},
   "outputs": [
    {
     "name": "stdout",
     "output_type": "stream",
     "text": [
      "Permeability P16 from Lognormal Parametric Distribution: 89.754\n",
      "Permeability P50 from Lognormal Parametric Distribution: 143.869\n"
     ]
    }
   ],
   "source": [
    "P16_perm_lognorm = stats.lognorm.ppf(0.16,s = sigma, scale = math.exp(mu))\n",
    "P50_perm_lognorm = stats.lognorm.ppf(0.50,s = sigma, scale = math.exp(mu))\n",
    "\n",
    "print('Permeability P16 from Lognormal Parametric Distribution: ' + str(np.round(P16_perm_lognorm,3)))\n",
    "print('Permeability P50 from Lognormal Parametric Distribution: ' + str(np.round(P50_perm_lognorm,3)))"
   ]
  },
  {
   "cell_type": "code",
   "execution_count": 11,
   "id": "762a1c08",
   "metadata": {},
   "outputs": [
    {
     "name": "stdout",
     "output_type": "stream",
     "text": [
      "\n",
      "Dykstra-Parsons Coefficient: 0.376 unitless\n"
     ]
    }
   ],
   "source": [
    "dp_lognorm = (P50_perm_lognorm - P16_perm_lognorm)/P50_perm_lognorm\n",
    "print('\\nDykstra-Parsons Coefficient: ' + str(np.round(dp_lognorm,3)) + ' unitless')"
   ]
  },
  {
   "cell_type": "markdown",
   "id": "af1c596d",
   "metadata": {},
   "source": [
    "#### Visualize the Lognormal Permeability Parametric Distribution\n",
    "\n",
    "Let's check our lognormal parametric distribution fit.\n",
    "\n",
    "* we visualize the lognormal parametric CDF and the permeability data nonparametric distribution together to check the fit"
   ]
  },
  {
   "cell_type": "code",
   "execution_count": 23,
   "id": "8c05f34f",
   "metadata": {},
   "outputs": [
    {
     "data": {
      "image/png": "[encoded data removed]",
      "text/plain": [
       "<Figure size 432x288 with 1 Axes>"
      ]
     },
     "metadata": {
      "needs_background": "light"
     },
     "output_type": "display_data"
    }
   ],
   "source": [
    "cumul_prob = np.linspace(0.01,0.999,100)\n",
    "lognormal = stats.lognorm.ppf(cumul_prob,s = sigma, scale = math.exp(mu))\n",
    "\n",
    "plt.plot(lognormal,cumul_prob,color='red',label='Parametric Distribution',zorder=1)\n",
    "plt.xlabel('Permeability (mD)'); plt.ylabel('Cumulative Probability'); plt.title('Permeability Data Nonparametric and Lognormal Parametric Distributions')\n",
    "plt.ylim([0,1]); plt.xlim([0,600]); plt.grid()\n",
    "plt.scatter(df['Perm'].values,df[\"Perm\"].rank()/(len(df)+1),color='darkorange',edgecolor='black',zorder=10,label='Data')\n",
    "plt.legend(loc='upper left')\n",
    "\n",
    "plt.subplots_adjust(left=0.0, bottom=0.0, right=1.0, top=1.2, wspace=0.3, hspace=0.4); plt.show()"
   ]
  },
  {
   "cell_type": "markdown",
   "id": "2cfa3584",
   "metadata": {},
   "source": [
    "#### Comments\n",
    "\n",
    "This is a simple distribution of heterogeneity metrics.\n",
    "\n",
    "Much more could be done, I have other demonstrations on the basics of working with DataFrames, ndarrays, univariate statistics, plotting data, declustering, data transformations, geostatistics, machine learning and many other workflows available at https://github.com/GeostatsGuy/PythonNumericalDemos and https://github.com/GeostatsGuy/GeostatsPy. \n",
    "  \n",
    "I hope this was helpful,\n",
    "\n",
    "*Michael*\n",
    "\n",
    "#### The Author:\n",
    "\n",
    "### Michael Pyrcz, Associate Professor, University of Texas at Austin \n",
    "*Novel Data Analytics, Geostatistics and Machine Learning Subsurface Solutions*\n",
    "\n",
    "With over 17 years of experience in subsurface consulting, research and development, Michael has returned to academia driven by his passion for teaching and enthusiasm for enhancing engineers' and geoscientists' impact in subsurface resource development. \n",
    "\n",
    "For more about Michael check out these links:\n",
    "\n",
    "#### [Twitter](https://twitter.com/geostatsguy) | [GitHub](https://github.com/GeostatsGuy) | [Website](http://michaelpyrcz.com) | [GoogleScholar](https://scholar.google.com/citations?user=QVZ20eQAAAAJ&hl=en&oi=ao) | [Book](https://www.amazon.com/Geostatistical-Reservoir-Modeling-Michael-Pyrcz/dp/0199731446) | [YouTube](https://www.youtube.com/channel/UCLqEr-xV-ceHdXXXrTId5ig)  | [LinkedIn](https://www.linkedin.com/in/michael-pyrcz-61a648a1)\n",
    "\n",
    "#### Want to Work Together?\n",
    "\n",
    "I hope this content is helpful to those that want to learn more about subsurface modeling, data analytics and machine learning. Students and working professionals are welcome to participate.\n",
    "\n",
    "* Want to invite me to visit your company for training, mentoring, project review, workflow design and / or consulting? I'd be happy to drop by and work with you! \n",
    "\n",
    "* Interested in partnering, supporting my graduate student research or my Subsurface Data Analytics and Machine Learning consortium (co-PIs including Profs. Foster, Torres-Verdin and van Oort)? My research combines data analytics, stochastic modeling and machine learning theory with practice to develop novel methods and workflows to add value. We are solving challenging subsurface problems!\n",
    "\n",
    "* I can be reached at mpyrcz@austin.utexas.edu.\n",
    "\n",
    "I'm always happy to discuss,\n",
    "\n",
    "*Michael*\n",
    "\n",
    "Michael Pyrcz, Ph.D., P.Eng. Associate Professor The Hildebrand Department of Petroleum and Geosystems Engineering, Bureau of Economic Geology, The Jackson School of Geosciences, The University of Texas at Austin\n",
    "\n",
    "#### More Resources Available at: [Twitter](https://twitter.com/geostatsguy) | [GitHub](https://github.com/GeostatsGuy) | [Website](http://michaelpyrcz.com) | [GoogleScholar](https://scholar.google.com/citations?user=QVZ20eQAAAAJ&hl=en&oi=ao) | [Book](https://www.amazon.com/Geostatistical-Reservoir-Modeling-Michael-Pyrcz/dp/0199731446) | [YouTube](https://www.youtube.com/channel/UCLqEr-xV-ceHdXXXrTId5ig)  | [LinkedIn](https://www.linkedin.com/in/michael-pyrcz-61a648a1)"
   ]
  },
  {
   "cell_type": "code",
   "execution_count": null,
   "id": "d2817dc7",
   "metadata": {},
   "outputs": [],
   "source": []
  }
 ],
 "metadata": {
  "kernelspec": {
   "display_name": "Python 3 (ipykernel)",
   "language": "python",
   "name": "python3"
  },
  "language_info": {
   "codemirror_mode": {
    "name": "ipython",
    "version": 3
   },
   "file_extension": ".py",
   "mimetype": "text/x-python",
   "name": "python",
   "nbconvert_exporter": "python",
   "pygments_lexer": "ipython3",
   "version": "3.9.12"
  }
 },
 "nbformat": 4,
 "nbformat_minor": 5
}
